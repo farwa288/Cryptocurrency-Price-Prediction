{
 "cells": [
  {
   "cell_type": "markdown",
   "id": "57c3c9c2",
   "metadata": {},
   "source": [
    "# Problem Statement"
   ]
  },
  {
   "cell_type": "raw",
   "id": "4b0443ab",
   "metadata": {},
   "source": [
    "As the popularity of cryptocurrencies continues to grow, it has become increasingly important for businesses to accurately\n",
    "predict the prices of various cryptocurrencies. However, the volatility and unpredictability of the cryptocurrency market make \n",
    "it challenging to develop accurate price prediction models. Therefore, there is a need to develop a machine learning algorithm \n",
    "that can effectively predict cryptocurrency prices and help businesses make informed decisions about their investments. \n",
    "The goal is to create a model that can accurately forecast the price of various cryptocurrencies based on historical price data\n",
    "and other relevant variables, such as market capital and trading volumes. The successful development of such \n",
    "a model can enable businesses to better manage their risks, optimize their investment strategies, and ultimately improve their\n",
    "profitability in the cryptocurrency market."
   ]
  },
  {
   "cell_type": "markdown",
   "id": "8ef7a26d",
   "metadata": {},
   "source": [
    "# Importing Libraries"
   ]
  },
  {
   "cell_type": "raw",
   "id": "920136fd",
   "metadata": {},
   "source": [
    "Installing pandas profiling for getting HTML formal EDA on overall dataset.\n",
    "pandas-profiling delivers an extended analysis of a DataFrame while alllowing the data analysis to be exported in\n",
    "different formats such as html and json. The package outputs a simple and digested analysis of a dataset, including time-series\n",
    "and text."
   ]
  },
  {
   "cell_type": "code",
   "execution_count": null,
   "id": "b5169e2d",
   "metadata": {},
   "outputs": [],
   "source": [
    "# pip install pandas-profiling"
   ]
  },
  {
   "cell_type": "code",
   "execution_count": null,
   "id": "d1f312ce",
   "metadata": {},
   "outputs": [],
   "source": [
    "# pip install xgboost"
   ]
  },
  {
   "cell_type": "code",
   "execution_count": null,
   "id": "ad2ac9b4",
   "metadata": {},
   "outputs": [],
   "source": [
    "import numpy as np\n",
    "import pandas as pd\n",
    "import seaborn as sns\n",
    "import matplotlib.pyplot as plt\n",
    "import plotly.graph_objects as go\n",
    "import datetime \n",
    "import random\n",
    "# from pandas_profiling import ProfileReport\n",
    "\n",
    "from sklearn.model_selection import train_test_split,GridSearchCV,RandomizedSearchCV\n",
    "from sklearn.preprocessing import MinMaxScaler,StandardScaler\n",
    "from sklearn.preprocessing import OrdinalEncoder,RobustScaler\n",
    "\n",
    "from statsmodels.stats.outliers_influence import variance_inflation_factor\n",
    "\n",
    "from sklearn.linear_model import LinearRegression\n",
    "from sklearn.tree import DecisionTreeRegressor\n",
    "from sklearn.ensemble import RandomForestRegressor\n",
    "from xgboost import XGBRegressor\n",
    "\n",
    "from sklearn.metrics import mean_absolute_error,mean_squared_error,r2_score\n",
    "\n",
    "import warnings\n",
    "warnings.filterwarnings(\"ignore\")"
   ]
  },
  {
   "cell_type": "markdown",
   "id": "521bed12",
   "metadata": {},
   "source": [
    "# Data Gathering"
   ]
  },
  {
   "cell_type": "raw",
   "id": "a5f4ba15",
   "metadata": {},
   "source": [
    "Importing all dataset seprately and after that concatenating all datasets as single dataset by using pandas library."
   ]
  },
  {
   "cell_type": "markdown",
   "id": "4877b842",
   "metadata": {},
   "source": [
    "### Bitcoin Datset "
   ]
  },
  {
   "cell_type": "code",
   "execution_count": null,
   "id": "f2fc27de",
   "metadata": {},
   "outputs": [],
   "source": [
    "df_bitcoin = pd.read_csv(\"coin_Bitcoin.csv\")\n",
    "df_bitcoin.head()"
   ]
  },
  {
   "cell_type": "code",
   "execution_count": null,
   "id": "bbabfb82",
   "metadata": {},
   "outputs": [],
   "source": [
    "df_bitcoin.shape"
   ]
  },
  {
   "cell_type": "markdown",
   "id": "a711363d",
   "metadata": {},
   "source": [
    "### Cardano Dataset"
   ]
  },
  {
   "cell_type": "code",
   "execution_count": null,
   "id": "6bd1496f",
   "metadata": {},
   "outputs": [],
   "source": [
    "df_cardano = pd.read_csv(\"coin_Cardano.csv\")\n",
    "df_cardano.head()"
   ]
  },
  {
   "cell_type": "code",
   "execution_count": null,
   "id": "a9110a1d",
   "metadata": {},
   "outputs": [],
   "source": [
    "df_cardano.shape"
   ]
  },
  {
   "cell_type": "markdown",
   "id": "d0666198",
   "metadata": {},
   "source": [
    "### Dogecoin Dataset"
   ]
  },
  {
   "cell_type": "code",
   "execution_count": null,
   "id": "b11ddbf1",
   "metadata": {},
   "outputs": [],
   "source": [
    "df_dogecoin = pd.read_csv(\"coin_Dogecoin.csv\")\n",
    "df_dogecoin.head()"
   ]
  },
  {
   "cell_type": "code",
   "execution_count": null,
   "id": "e0f7a59e",
   "metadata": {},
   "outputs": [],
   "source": [
    "df_dogecoin.shape"
   ]
  },
  {
   "cell_type": "markdown",
   "id": "c89f4a63",
   "metadata": {},
   "source": [
    "### Ethereum Dataset "
   ]
  },
  {
   "cell_type": "code",
   "execution_count": null,
   "id": "7174af28",
   "metadata": {},
   "outputs": [],
   "source": [
    "df_ethereum = pd.read_csv(\"coin_Ethereum.csv\")\n",
    "df_ethereum.head()"
   ]
  },
  {
   "cell_type": "code",
   "execution_count": null,
   "id": "ccb1ee05",
   "metadata": {},
   "outputs": [],
   "source": [
    "df_ethereum.shape"
   ]
  },
  {
   "cell_type": "raw",
   "id": "8fd791fa",
   "metadata": {},
   "source": [
    "Date : date of observation\n",
    "Open : Opening price on the given day\n",
    "High : Highest price on the given day\n",
    "Low : Lowest price on the given day\n",
    "Close : Closing price on the given day\n",
    "Volume : Volume of transactions on the given day\n",
    "Market Cap : Market capitalization in USD\n",
    "#Concatenating all dataset by using pd.concantenate function to create single datatset ...."
   ]
  },
  {
   "cell_type": "markdown",
   "id": "fa456d86",
   "metadata": {},
   "source": [
    "### Concatenating above four dataset by using pandas "
   ]
  },
  {
   "cell_type": "code",
   "execution_count": null,
   "id": "06086f1b",
   "metadata": {},
   "outputs": [],
   "source": [
    "df = pd.concat([df_bitcoin,df_cardano,df_dogecoin,df_ethereum],ignore_index=True)\n",
    "df.head()"
   ]
  },
  {
   "cell_type": "code",
   "execution_count": null,
   "id": "485e36aa",
   "metadata": {},
   "outputs": [],
   "source": [
    "df.shape"
   ]
  },
  {
   "cell_type": "code",
   "execution_count": null,
   "id": "c94f7d14",
   "metadata": {},
   "outputs": [],
   "source": [
    "df.info()"
   ]
  },
  {
   "cell_type": "code",
   "execution_count": null,
   "id": "9d221869",
   "metadata": {},
   "outputs": [],
   "source": [
    "df.dtypes"
   ]
  },
  {
   "cell_type": "code",
   "execution_count": null,
   "id": "f81eede4",
   "metadata": {},
   "outputs": [],
   "source": [
    "df.columns"
   ]
  },
  {
   "cell_type": "markdown",
   "id": "66841745",
   "metadata": {},
   "source": [
    "### Name"
   ]
  },
  {
   "cell_type": "code",
   "execution_count": null,
   "id": "c5e5703f",
   "metadata": {},
   "outputs": [],
   "source": [
    "df[\"Name\"].value_counts()"
   ]
  },
  {
   "cell_type": "markdown",
   "id": "2d2b457a",
   "metadata": {},
   "source": [
    "## Feature Engineering and EDA"
   ]
  },
  {
   "cell_type": "raw",
   "id": "3eb24544",
   "metadata": {},
   "source": [
    "Converting Date feature into seprate year,month and date because Date feature is object first we converted into datetime data-\n",
    "type and then seprated as seprate features for Date, year and month."
   ]
  },
  {
   "cell_type": "code",
   "execution_count": null,
   "id": "9260b44a",
   "metadata": {},
   "outputs": [],
   "source": [
    "df[\"Date\"]=pd.to_datetime(df[\"Date\"])"
   ]
  },
  {
   "cell_type": "code",
   "execution_count": null,
   "id": "27f3d77f",
   "metadata": {},
   "outputs": [],
   "source": [
    "df.head()"
   ]
  },
  {
   "cell_type": "raw",
   "id": "b64a65e9",
   "metadata": {},
   "source": [
    "Dropping features which are irrelevant for building predictive model."
   ]
  },
  {
   "cell_type": "code",
   "execution_count": null,
   "id": "359066e9",
   "metadata": {},
   "outputs": [],
   "source": [
    "df.drop([\"SNo\",\"Symbol\"],axis=1,inplace=True)"
   ]
  },
  {
   "cell_type": "code",
   "execution_count": null,
   "id": "4dbf073c",
   "metadata": {},
   "outputs": [],
   "source": [
    "df[\"Name\"].unique()"
   ]
  },
  {
   "cell_type": "markdown",
   "id": "6e95c26d",
   "metadata": {},
   "source": [
    "# Data Analysis"
   ]
  },
  {
   "cell_type": "raw",
   "id": "8423ad01",
   "metadata": {},
   "source": [
    "In below steps we are seprately performing data analysis on each currency dataset.\n",
    "First we check relation of High value, low value, open and close value over time. We understand trend of price though line plot.\n",
    "After that for each feature we check distrubution of data by using distplot and check for outliers by using boxplot method. "
   ]
  },
  {
   "cell_type": "markdown",
   "id": "e41c2b0d",
   "metadata": {},
   "source": [
    "### Function to get Outlier detection by boxplot and distribution of Features"
   ]
  },
  {
   "cell_type": "code",
   "execution_count": null,
   "id": "6cd02bfd",
   "metadata": {},
   "outputs": [],
   "source": [
    "def get_distribution_outlier(col):\n",
    "    color = random.choice(['r', 'g', 'b'])\n",
    "    fig, ax = plt.subplots(1,2,figsize=(18,5))\n",
    "    sns.distplot(col, ax=ax[0], color=color)\n",
    "    sns.boxplot(col, ax=ax[1], color=color)\n",
    "    plt.suptitle('Distribution & Boxplot for Outlier Detection')\n",
    "    fig.show()\n",
    "    return None"
   ]
  },
  {
   "cell_type": "markdown",
   "id": "d47d87b8",
   "metadata": {},
   "source": [
    "### Bitcoin price over Years"
   ]
  },
  {
   "cell_type": "code",
   "execution_count": null,
   "id": "74ecd75c",
   "metadata": {},
   "outputs": [],
   "source": [
    "df_bt = df[df[\"Name\"]==\"Bitcoin\"]\n",
    "df_bt.head()"
   ]
  },
  {
   "cell_type": "code",
   "execution_count": null,
   "id": "99d3c9e5",
   "metadata": {},
   "outputs": [],
   "source": [
    "df_bt.set_index('Date', inplace=True) # Set date column as the index"
   ]
  },
  {
   "cell_type": "code",
   "execution_count": null,
   "id": "109f44c2",
   "metadata": {},
   "outputs": [],
   "source": [
    "df_bt.describe()"
   ]
  },
  {
   "cell_type": "code",
   "execution_count": null,
   "id": "7b074a21",
   "metadata": {},
   "outputs": [],
   "source": [
    "plt.plot(df_bt[\"High\"], label='High Prices')\n",
    "plt.plot(df_bt[\"Low\"], label='Low Prices')\n",
    "plt.plot(df_bt[\"Open\"], label='Close Prices')\n",
    "plt.plot(df_bt[\"Close\"], label='Open Prices')\n",
    "plt.title('Bitcoin crypto Prediction Dataset')\n",
    "plt.xlabel('Date')\n",
    "plt.ylabel('Price')\n",
    "plt.legend()\n",
    "plt.show()"
   ]
  },
  {
   "cell_type": "raw",
   "id": "6217bc7c",
   "metadata": {},
   "source": [
    "The plot shows a huge surge in price of bitcoin in 2018...\n",
    "The price is increased from 10000 to 60000 from earlier 2020 till 2021 and then again there is price drop..."
   ]
  },
  {
   "cell_type": "code",
   "execution_count": null,
   "id": "2af330ef",
   "metadata": {},
   "outputs": [],
   "source": [
    "numeric_columns = ['High', 'Low', 'Open', 'Close', 'Volume', 'Marketcap']\n",
    "for i in numeric_columns:\n",
    "    get_distribution_outlier(df_bt[i])"
   ]
  },
  {
   "cell_type": "markdown",
   "id": "7bb9eff3",
   "metadata": {},
   "source": [
    "### Cardano price over Years"
   ]
  },
  {
   "cell_type": "code",
   "execution_count": null,
   "id": "fea83e2f",
   "metadata": {},
   "outputs": [],
   "source": [
    "df_cd = df[df[\"Name\"]==\"Cardano\"]\n",
    "df_cd.head()"
   ]
  },
  {
   "cell_type": "code",
   "execution_count": null,
   "id": "44248d23",
   "metadata": {},
   "outputs": [],
   "source": [
    "df_cd.set_index('Date', inplace=True)"
   ]
  },
  {
   "cell_type": "code",
   "execution_count": null,
   "id": "061dcef1",
   "metadata": {},
   "outputs": [],
   "source": [
    "df_cd.describe()"
   ]
  },
  {
   "cell_type": "code",
   "execution_count": null,
   "id": "60417a3e",
   "metadata": {},
   "outputs": [],
   "source": [
    "plt.plot(df_cd[\"High\"], label='High Prices')\n",
    "plt.plot(df_cd[\"Low\"], label='Low Prices')\n",
    "plt.plot(df_cd[\"Open\"], label='Close Prices')\n",
    "plt.plot(df_cd[\"Close\"], label='Open Prices')\n",
    "plt.title('Cardano crypto Prediction Dataset')\n",
    "plt.xlabel('Date')\n",
    "plt.ylabel('Price')\n",
    "plt.legend()\n",
    "plt.show()"
   ]
  },
  {
   "cell_type": "raw",
   "id": "3ddfaa87",
   "metadata": {},
   "source": [
    "In case of Cardano crypto there hike initially in jan 2018 to March 2018 but after that there is price drop and flat line \n",
    "almost...From Jan 2021 price hiked from 0.3 to 2.5 ....."
   ]
  },
  {
   "cell_type": "code",
   "execution_count": null,
   "id": "593d5105",
   "metadata": {},
   "outputs": [],
   "source": [
    "for i in numeric_columns:\n",
    "    get_distribution_outlier(df_cd[i])"
   ]
  },
  {
   "cell_type": "markdown",
   "id": "7a31f909",
   "metadata": {},
   "source": [
    "### Dogecoin price over years"
   ]
  },
  {
   "cell_type": "code",
   "execution_count": null,
   "id": "22dbbc93",
   "metadata": {},
   "outputs": [],
   "source": [
    "df_dg = df[df[\"Name\"]==\"Dogecoin\"]\n",
    "df_dg.head()"
   ]
  },
  {
   "cell_type": "code",
   "execution_count": null,
   "id": "dc4fd994",
   "metadata": {},
   "outputs": [],
   "source": [
    "df_dg.set_index('Date', inplace=True)"
   ]
  },
  {
   "cell_type": "code",
   "execution_count": null,
   "id": "530196e5",
   "metadata": {},
   "outputs": [],
   "source": [
    "df_dg.describe()"
   ]
  },
  {
   "cell_type": "code",
   "execution_count": null,
   "id": "226cfc48",
   "metadata": {},
   "outputs": [],
   "source": [
    "plt.plot(df_dg[\"High\"], label='High Prices')\n",
    "plt.plot(df_dg[\"Low\"], label='Low Prices')\n",
    "plt.plot(df_dg[\"Open\"], label='Close Prices')\n",
    "plt.plot(df_dg[\"Close\"], label='Open Prices')\n",
    "plt.title('Dogecoin Prediction Dataset')\n",
    "plt.xlabel('Date')\n",
    "plt.ylabel('Price')\n",
    "plt.legend()\n",
    "plt.show()"
   ]
  },
  {
   "cell_type": "code",
   "execution_count": null,
   "id": "148023a3",
   "metadata": {},
   "outputs": [],
   "source": [
    "for i in numeric_columns:\n",
    "    get_distribution_outlier(df_dg[i])"
   ]
  },
  {
   "cell_type": "markdown",
   "id": "e4b3b8a2",
   "metadata": {},
   "source": [
    "### Etherium price over years"
   ]
  },
  {
   "cell_type": "code",
   "execution_count": null,
   "id": "6a6225a7",
   "metadata": {},
   "outputs": [],
   "source": [
    "df_et = df[df[\"Name\"]==\"Ethereum\"]\n",
    "df_et.head()"
   ]
  },
  {
   "cell_type": "code",
   "execution_count": null,
   "id": "7f13d1e2",
   "metadata": {},
   "outputs": [],
   "source": [
    "df_et.set_index('Date', inplace=True)"
   ]
  },
  {
   "cell_type": "code",
   "execution_count": null,
   "id": "208d8f97",
   "metadata": {},
   "outputs": [],
   "source": [
    "df_et.describe()"
   ]
  },
  {
   "cell_type": "code",
   "execution_count": null,
   "id": "fd80c34e",
   "metadata": {},
   "outputs": [],
   "source": [
    "plt.plot(df_et[\"High\"], label='High Prices')\n",
    "plt.plot(df_et[\"Low\"], label='Low Prices')\n",
    "plt.plot(df_et[\"Open\"], label='Close Prices')\n",
    "plt.plot(df_et[\"Close\"], label='Open Prices')\n",
    "plt.title('Ethereum Prediction Dataset')\n",
    "plt.xlabel('Date')\n",
    "plt.ylabel('Price')\n",
    "plt.legend()\n",
    "plt.show()"
   ]
  },
  {
   "cell_type": "code",
   "execution_count": null,
   "id": "f855d45d",
   "metadata": {},
   "outputs": [],
   "source": [
    "for i in numeric_columns:\n",
    "    get_distribution_outlier(df_et[i])"
   ]
  },
  {
   "cell_type": "markdown",
   "id": "5de28be6",
   "metadata": {},
   "source": [
    "# EDA by pandas profiling"
   ]
  },
  {
   "cell_type": "code",
   "execution_count": null,
   "id": "091222cd",
   "metadata": {},
   "outputs": [],
   "source": [
    "# prof = ProfileReport(df)\n",
    "# prof.to_file(output_file='EDA_profile_crptocurrency_dataset.html')"
   ]
  },
  {
   "cell_type": "markdown",
   "id": "87db381f",
   "metadata": {},
   "source": [
    "# Feature Encoding"
   ]
  },
  {
   "cell_type": "raw",
   "id": "701970bf",
   "metadata": {},
   "source": [
    "To convert categorical feature into numerical we are using One hot encoding or label encoding as machine accept only numerical \n",
    "data."
   ]
  },
  {
   "cell_type": "code",
   "execution_count": null,
   "id": "7f99e4af",
   "metadata": {},
   "outputs": [],
   "source": [
    "df[\"Name\"].unique()"
   ]
  },
  {
   "cell_type": "code",
   "execution_count": null,
   "id": "4e4eb974",
   "metadata": {},
   "outputs": [],
   "source": [
    "oe = OrdinalEncoder(categories=[['Bitcoin', 'Cardano', 'Dogecoin', 'Ethereum']])\n",
    "df[\"Name\"] = oe.fit_transform(df[[\"Name\"]])"
   ]
  },
  {
   "cell_type": "code",
   "execution_count": null,
   "id": "91b23a96",
   "metadata": {},
   "outputs": [],
   "source": [
    "df[\"Name\"].unique()"
   ]
  },
  {
   "cell_type": "markdown",
   "id": "f60fff48",
   "metadata": {},
   "source": [
    "# Checking Assumptions of regression "
   ]
  },
  {
   "cell_type": "raw",
   "id": "a7f69386",
   "metadata": {},
   "source": [
    "We are checking basic two assumption before building model.\n",
    "1) Linearity - In which we are checking target column relationship with input features.\n",
    "In our case close price is our target column which is linearly dependent on all input features like high, low, open, volume shared and market cap value which shown in below pairplot graph.\n",
    "For checking linearity we also use coefficient of corelation(r).Its value lies between -1 to 1.\n",
    "If value of r for feature lies between ;\n",
    "a) 0.7 to 1 >> There is possitive linear relationship\n",
    "b) -0.3 to 3 >> There is no relationship between features\n",
    "c) -0.7 to -1 >> There is negative relationship \n",
    "\n",
    "2) No Multi-colinearity - In which we check there should be no multicolinearity that is input features must not be in linear relationship with another input features."
   ]
  },
  {
   "cell_type": "markdown",
   "id": "617b11f7",
   "metadata": {},
   "source": [
    "### Checking for Linearity"
   ]
  },
  {
   "cell_type": "code",
   "execution_count": null,
   "id": "775e4471",
   "metadata": {},
   "outputs": [],
   "source": [
    "sns.pairplot(df)"
   ]
  },
  {
   "cell_type": "code",
   "execution_count": null,
   "id": "ab7739c7",
   "metadata": {},
   "outputs": [],
   "source": [
    "df.corr()"
   ]
  },
  {
   "cell_type": "code",
   "execution_count": null,
   "id": "5626647d",
   "metadata": {},
   "outputs": [],
   "source": [
    "sns.heatmap(df.corr(),annot=True)"
   ]
  },
  {
   "cell_type": "markdown",
   "id": "101f996b",
   "metadata": {},
   "source": [
    "# Scaling of Data"
   ]
  },
  {
   "cell_type": "raw",
   "id": "c0ed7df3",
   "metadata": {},
   "source": [
    "Scaling the dataset before building a machine learning model is important for several reasons:\n",
    "\n",
    "Equalizing the scale: Scaling helps to equalize the scale of the input features. Different features may have different scales, such as one feature could be measured in hundreds, while another feature could be measured in thousands. In such a case, a model may give more importance to the feature with higher scale, which can lead to poor performance.\n",
    "\n",
    "Gradient descent optimization: Many machine learning algorithms use gradient descent optimization to find the optimal solution. Scaling helps the optimization algorithm converge faster towards the global minimum, which in turn results in better accuracy.\n",
    "\n",
    "Distance-based algorithms: Distance-based algorithms such as K-nearest neighbors, SVM, and PCA are sensitive to the scale of the input features. Scaling helps these algorithms to work effectively by ensuring that all the features contribute equally to the distance computation.\n",
    "\n",
    "We are using robust scaling here to scale data."
   ]
  },
  {
   "cell_type": "code",
   "execution_count": null,
   "id": "79b06c5a",
   "metadata": {},
   "outputs": [],
   "source": [
    "df.head()"
   ]
  },
  {
   "cell_type": "code",
   "execution_count": null,
   "id": "1194ec52",
   "metadata": {},
   "outputs": [],
   "source": [
    "df['Date_year'] =df[\"Date\"].dt.year\n",
    "df['Date_month'] =df[\"Date\"].dt.month\n",
    "df['Date_day'] =df[\"Date\"].dt.day\n",
    "df.drop(\"Date\",axis=1,inplace=True)"
   ]
  },
  {
   "cell_type": "code",
   "execution_count": null,
   "id": "92b4add3",
   "metadata": {},
   "outputs": [],
   "source": [
    "df.dtypes"
   ]
  },
  {
   "cell_type": "code",
   "execution_count": null,
   "id": "88d9d9a5",
   "metadata": {},
   "outputs": [],
   "source": [
    "x = df.drop(\"Close\",axis=1)\n",
    "y = df[\"Close\"]"
   ]
  },
  {
   "cell_type": "code",
   "execution_count": null,
   "id": "3db34265",
   "metadata": {},
   "outputs": [],
   "source": [
    "rs_model = RobustScaler()\n",
    "x_array = rs_model.fit_transform(x)\n",
    "x = pd.DataFrame(x_array,columns=x.columns)"
   ]
  },
  {
   "cell_type": "markdown",
   "id": "5e07866c",
   "metadata": {},
   "source": [
    "# Train Test Split"
   ]
  },
  {
   "cell_type": "code",
   "execution_count": null,
   "id": "24969b56",
   "metadata": {},
   "outputs": [],
   "source": [
    "x_train,x_test,y_train,y_test = train_test_split(x,y,test_size = 0.2,random_state=45)"
   ]
  },
  {
   "cell_type": "code",
   "execution_count": null,
   "id": "9ba58352",
   "metadata": {},
   "outputs": [],
   "source": [
    "x_train.shape,x_test.shape"
   ]
  },
  {
   "cell_type": "markdown",
   "id": "87d8fa5a",
   "metadata": {},
   "source": [
    "# Model Training"
   ]
  },
  {
   "cell_type": "markdown",
   "id": "f7ad6660",
   "metadata": {},
   "source": [
    "## LR Model"
   ]
  },
  {
   "cell_type": "code",
   "execution_count": null,
   "id": "42f46bf8",
   "metadata": {},
   "outputs": [],
   "source": [
    "lr_model = LinearRegression()\n",
    "lr_model.fit(x_train,y_train)"
   ]
  },
  {
   "cell_type": "markdown",
   "id": "88a974b3",
   "metadata": {},
   "source": [
    "### Model Evaluation"
   ]
  },
  {
   "cell_type": "code",
   "execution_count": null,
   "id": "032bcd65",
   "metadata": {},
   "outputs": [],
   "source": [
    "#Evaluation on training data\n",
    "y_pred = lr_model.predict(x_train)\n",
    "\n",
    "LR_train_MAE = mean_absolute_error(y_train,y_pred)\n",
    "print(\"The mean absolute error >>\",LR_train_MAE)\n",
    "\n",
    "LR_train_MSE = mean_squared_error(y_train,y_pred)\n",
    "print(\"The mean Squared error >>\",LR_train_MSE)\n",
    "\n",
    "LR_train_RMSE = np.sqrt(LR_train_MSE)\n",
    "print(\"The RMSE value >>\",LR_train_RMSE)\n",
    "\n",
    "LR_train_R2 = r2_score(y_train,y_pred)\n",
    "print(\"The R2 value >>\",LR_train_R2) "
   ]
  },
  {
   "cell_type": "code",
   "execution_count": null,
   "id": "f1ec3fc9",
   "metadata": {},
   "outputs": [],
   "source": [
    "#Evaluation on testing data\n",
    "y_pred = lr_model.predict(x_test)\n",
    "\n",
    "LR_test_MAE = mean_absolute_error(y_test,y_pred)\n",
    "print(\"The mean absolute error >>\",LR_test_MAE)\n",
    "\n",
    "LR_test_MSE = mean_squared_error(y_test,y_pred)\n",
    "print(\"The mean Squared error >>\",LR_test_MSE)\n",
    "\n",
    "LR_test_RMSE = np.sqrt(LR_test_MSE)\n",
    "print(\"The RMSE value >>\",LR_test_RMSE)\n",
    "\n",
    "LR_test_R2 = r2_score(y_test,y_pred)\n",
    "print(\"The R2 value >>\",LR_test_R2)"
   ]
  },
  {
   "cell_type": "markdown",
   "id": "78c29b9e",
   "metadata": {},
   "source": [
    "## DT Model"
   ]
  },
  {
   "cell_type": "code",
   "execution_count": null,
   "id": "da43fb65",
   "metadata": {},
   "outputs": [],
   "source": [
    "dt_model = DecisionTreeRegressor()\n",
    "dt_model.fit(x_train,y_train)"
   ]
  },
  {
   "cell_type": "markdown",
   "id": "2499d46c",
   "metadata": {},
   "source": [
    "### Model Evaluation "
   ]
  },
  {
   "cell_type": "code",
   "execution_count": null,
   "id": "0c8d89f4",
   "metadata": {},
   "outputs": [],
   "source": [
    "#Evaluation on training data\n",
    "y_pred = dt_model.predict(x_train)\n",
    "\n",
    "DT_train_MAE = mean_absolute_error(y_train,y_pred)\n",
    "print(\"The mean absolute error >>\",DT_train_MAE)\n",
    "\n",
    "DT_train_MSE = mean_squared_error(y_train,y_pred)\n",
    "print(\"The mean Squared error >>\",DT_train_MSE)\n",
    "\n",
    "DT_train_RMSE = np.sqrt(DT_train_MSE)\n",
    "print(\"The RMSE value >>\",DT_train_RMSE)\n",
    "\n",
    "DT_train_R2 = r2_score(y_train,y_pred)\n",
    "print(\"The R2 value >>\",DT_train_R2)"
   ]
  },
  {
   "cell_type": "code",
   "execution_count": null,
   "id": "2c842319",
   "metadata": {},
   "outputs": [],
   "source": [
    "#Evaluation on testing data\n",
    "y_pred = dt_model.predict(x_test)\n",
    "\n",
    "DT_test_MAE = mean_absolute_error(y_test,y_pred)\n",
    "print(\"The mean absolute error >>\",DT_test_MAE)\n",
    "\n",
    "DT_test_MSE = mean_squared_error(y_test,y_pred)\n",
    "print(\"The mean Squared error >>\",DT_test_MSE)\n",
    "\n",
    "DT_test_RMSE = np.sqrt(DT_test_MSE)\n",
    "print(\"The RMSE value >>\",DT_test_RMSE)\n",
    "\n",
    "DT_test_R2 = r2_score(y_test,y_pred)\n",
    "print(\"The R2 value >>\",DT_test_R2)"
   ]
  },
  {
   "cell_type": "markdown",
   "id": "6c75d1e4",
   "metadata": {},
   "source": [
    "## RF Model "
   ]
  },
  {
   "cell_type": "code",
   "execution_count": null,
   "id": "0ccf16cd",
   "metadata": {},
   "outputs": [],
   "source": [
    "rf_model = RandomForestRegressor()\n",
    "rf_model.fit(x_train,y_train)"
   ]
  },
  {
   "cell_type": "markdown",
   "id": "edcc2d01",
   "metadata": {},
   "source": [
    "### Model Evaluation"
   ]
  },
  {
   "cell_type": "code",
   "execution_count": null,
   "id": "b040fa24",
   "metadata": {},
   "outputs": [],
   "source": [
    "#Evaluation on training data\n",
    "y_pred = rf_model.predict(x_train)\n",
    "\n",
    "RF_train_MAE = mean_absolute_error(y_train,y_pred)\n",
    "print(\"The mean absolute error >>\",RF_train_MAE)\n",
    "\n",
    "RF_train_MSE = mean_squared_error(y_train,y_pred)\n",
    "print(\"The mean Squared error >>\",RF_train_MSE)\n",
    "\n",
    "RF_train_RMSE = np.sqrt(RF_train_MSE)\n",
    "print(\"The RMSE value >>\",RF_train_RMSE)\n",
    "\n",
    "RF_train_R2 = r2_score(y_train,y_pred)\n",
    "print(\"The R2 value >>\",RF_train_R2)"
   ]
  },
  {
   "cell_type": "code",
   "execution_count": null,
   "id": "4688203e",
   "metadata": {},
   "outputs": [],
   "source": [
    "#Evaluation on testing data\n",
    "y_pred = rf_model.predict(x_test)\n",
    "\n",
    "RF_test_MAE = mean_absolute_error(y_test,y_pred)\n",
    "print(\"The mean absolute error >>\",RF_test_MAE)\n",
    "\n",
    "RF_test_MSE = mean_squared_error(y_test,y_pred)\n",
    "print(\"The mean Squared error >>\",RF_test_MSE)\n",
    "\n",
    "RF_test_RMSE = np.sqrt(RF_test_MSE)\n",
    "print(\"The RMSE value >>\",RF_test_RMSE)\n",
    "\n",
    "RF_test_R2 = r2_score(y_test,y_pred)\n",
    "print(\"The R2 value >>\",RF_test_R2)"
   ]
  },
  {
   "cell_type": "markdown",
   "id": "a7183c84",
   "metadata": {},
   "source": [
    "## Hyperparameter Tuning "
   ]
  },
  {
   "cell_type": "raw",
   "id": "6b1b9624",
   "metadata": {},
   "source": [
    "Performing Hyperparameter tuning to boost performance of model. There are two types for Hyperparameter tuning GridsearchCV and\n",
    "RandomisedsearchCV. GridsearchCV takes lot time fit model so we are performing RandomisedsearchCV on given data."
   ]
  },
  {
   "cell_type": "code",
   "execution_count": null,
   "id": "a9859921",
   "metadata": {},
   "outputs": [],
   "source": [
    "# rf_model = RandomForestRegressor()\n",
    "# hyper_parameter = {\"criterion\":[\"squared_error\", \"absolute_error\"],\n",
    "#                    \"max_depth\":np.arange(3,7),\n",
    "#                    \"min_samples_split\":np.arange(3,7),\n",
    "#                    \"min_samples_leaf\":np.arange(3,7)}\n",
    "\n",
    "# rscv = RandomizedSearchCV(rf_model,hyper_parameter,cv=5)\n",
    "# rscv.fit(x_train,y_train)"
   ]
  },
  {
   "cell_type": "code",
   "execution_count": null,
   "id": "c390a389",
   "metadata": {},
   "outputs": [],
   "source": [
    "# rscv_rf.best_estimator_"
   ]
  },
  {
   "cell_type": "markdown",
   "id": "8cc9f83a",
   "metadata": {},
   "source": [
    "## XGB Model"
   ]
  },
  {
   "cell_type": "code",
   "execution_count": null,
   "id": "2044e6c4",
   "metadata": {},
   "outputs": [],
   "source": [
    "xgb_model = XGBRegressor()\n",
    "xgb_model.fit(x_train,y_train)"
   ]
  },
  {
   "cell_type": "code",
   "execution_count": null,
   "id": "8fc8639d",
   "metadata": {},
   "outputs": [],
   "source": [
    "#Evaluation on training data\n",
    "y_pred = xgb_model.predict(x_train)\n",
    "\n",
    "XGB_train_MAE = mean_absolute_error(y_train,y_pred)\n",
    "print(\"The mean absolute error >>\",XGB_train_MAE)\n",
    "\n",
    "XGB_train_MSE = mean_squared_error(y_train,y_pred)\n",
    "print(\"The mean Squared error >>\",XGB_train_MSE)\n",
    "\n",
    "XGB_train_RMSE = np.sqrt(XGB_train_MSE)\n",
    "print(\"The RMSE value >>\",XGB_train_RMSE)\n",
    "\n",
    "XGB_train_R2 = r2_score(y_train,y_pred)\n",
    "print(\"The R2 value >>\",XGB_train_R2)"
   ]
  },
  {
   "cell_type": "code",
   "execution_count": null,
   "id": "7563645d",
   "metadata": {},
   "outputs": [],
   "source": [
    "#Evaluation on testing data\n",
    "y_pred = xgb_model.predict(x_test)\n",
    "\n",
    "XGB_test_MAE = mean_absolute_error(y_test,y_pred)\n",
    "print(\"The mean absolute error >>\",XGB_test_MAE)\n",
    "\n",
    "XGB_test_MSE = mean_squared_error(y_test,y_pred)\n",
    "print(\"The mean Squared error >>\",XGB_test_MSE)\n",
    "\n",
    "XGB_test_RMSE = np.sqrt(XGB_test_MSE)\n",
    "print(\"The RMSE value >>\",XGB_test_RMSE)\n",
    "\n",
    "XGB_test_R2 = r2_score(y_test,y_pred)\n",
    "print(\"The R2 value >>\",XGB_test_R2)"
   ]
  },
  {
   "cell_type": "markdown",
   "id": "b9e4e296",
   "metadata": {},
   "source": [
    "# Comparison of Model results "
   ]
  },
  {
   "cell_type": "raw",
   "id": "b1a5a93b",
   "metadata": {},
   "source": [
    "By using bar plot we are comparing all models r2_score, MAE value and RMSE value for training and testing dataset."
   ]
  },
  {
   "cell_type": "markdown",
   "id": "55dc3cea",
   "metadata": {},
   "source": [
    "### MAE Value Comparison"
   ]
  },
  {
   "cell_type": "code",
   "execution_count": null,
   "id": "ce500736",
   "metadata": {},
   "outputs": [],
   "source": [
    "result_MAE = pd.DataFrame({\"Model_name\":[\"LR_model\",\"DT_model\",\"RF_model\",\"XGB_model\"],\n",
    "                       \"MAE_value_train\":[LR_train_MAE,DT_train_MAE,RF_train_MAE,XGB_train_MAE],\n",
    "                       \"MAE_value_test\":[LR_test_MAE,DT_test_MAE,RF_test_MAE,XGB_test_MAE]})\n"
   ]
  },
  {
   "cell_type": "code",
   "execution_count": null,
   "id": "c3931ec8",
   "metadata": {},
   "outputs": [],
   "source": [
    "result_MAE.plot(x=\"Model_name\",y=[\"MAE_value_train\",\"MAE_value_test\"],kind=\"bar\",figsize=(8,6))"
   ]
  },
  {
   "cell_type": "markdown",
   "id": "a79847db",
   "metadata": {},
   "source": [
    "### RMSE value comparison"
   ]
  },
  {
   "cell_type": "code",
   "execution_count": null,
   "id": "b7fee366",
   "metadata": {},
   "outputs": [],
   "source": [
    "result_RMSE = pd.DataFrame({\"Model_name\":[\"LR_model\",\"DT_model\",\"RF_model\",\"XGB_model\"],\n",
    "                       \"RMSE_value_train\":[LR_train_RMSE,DT_train_RMSE,RF_train_RMSE,XGB_train_RMSE],\n",
    "                       \"RMSE_value_test\":[LR_test_RMSE,DT_test_RMSE,RF_test_RMSE,XGB_test_RMSE]})\n",
    "result_RMSE"
   ]
  },
  {
   "cell_type": "code",
   "execution_count": null,
   "id": "202ea2a9",
   "metadata": {},
   "outputs": [],
   "source": [
    "result_RMSE.plot(x=\"Model_name\",y=[\"RMSE_value_train\",\"RMSE_value_test\"],kind=\"bar\",figsize=(8,6))"
   ]
  },
  {
   "cell_type": "markdown",
   "id": "ed03bb39",
   "metadata": {},
   "source": [
    "### Accuracy comparison for each model"
   ]
  },
  {
   "cell_type": "code",
   "execution_count": null,
   "id": "6c923fb6",
   "metadata": {},
   "outputs": [],
   "source": [
    "result_r2 = pd.DataFrame({\"Model_name\":[\"LR_model\",\"DT_model\",\"RF_model\",\"XGB_model\"],\n",
    "                       \"r2_value_train\":[LR_train_R2,DT_train_R2,RF_train_R2,XGB_train_R2],\n",
    "                       \"r2_value_test\":[LR_test_R2,DT_test_R2,RF_test_R2,XGB_test_R2]})\n",
    "result_r2"
   ]
  },
  {
   "cell_type": "code",
   "execution_count": null,
   "id": "3a3bef5a",
   "metadata": {},
   "outputs": [],
   "source": [
    "result_r2.plot(x=\"Model_name\",y=[\"r2_value_train\",\"r2_value_test\"],kind=\"line\",figsize=(8,6))"
   ]
  },
  {
   "cell_type": "code",
   "execution_count": null,
   "id": "260855a2",
   "metadata": {},
   "outputs": [],
   "source": [
    "model_names = [\"LR_model\",\"DT_model\",\"RF_model\",\"XGB_model\"]\n",
    "accuracy = [0.999599,1.000000,0.999977,0.999997]\n",
    "colors = ['yellow', 'green', 'blue', 'orange']\n",
    "\n",
    "plt.bar(model_names, accuracy, color=colors)\n",
    "\n",
    "# Add labels and title\n",
    "plt.ylim(0.95555, 1)\n",
    "plt.xlabel('model_names')\n",
    "plt.ylabel('accuracy')\n",
    "plt.title('Model accuracy comparision with different accuracy')\n",
    "\n",
    "# Show the plot\n",
    "plt.show()"
   ]
  },
  {
   "cell_type": "markdown",
   "id": "8480fbc6",
   "metadata": {},
   "source": [
    "# Pickle Files "
   ]
  },
  {
   "cell_type": "code",
   "execution_count": null,
   "id": "9bb3e13e",
   "metadata": {},
   "outputs": [],
   "source": [
    "import json\n",
    "import pickle"
   ]
  },
  {
   "cell_type": "code",
   "execution_count": null,
   "id": "24f8bd7d",
   "metadata": {},
   "outputs": [],
   "source": [
    "#Feature Name JSON File\n",
    "features = {\"coin_name\":{'Bitcoin':0, 'Cardano':1, 'Dogecoin':2, 'Ethereum':3}\"feature_names\":list(x_train.columns)}\n"
   ]
  },
  {
   "cell_type": "code",
   "execution_count": null,
   "id": "4eb5890a",
   "metadata": {},
   "outputs": [],
   "source": [
    "with open(\"features_names.json\",\"w\") as f:\n",
    "    json.dump(features,f)"
   ]
  },
  {
   "cell_type": "code",
   "execution_count": null,
   "id": "24494aa6",
   "metadata": {},
   "outputs": [],
   "source": [
    "with open(\"lr_model.pkl\",\"wb\") as f:\n",
    "    pickle.dump(lr_model,f)"
   ]
  },
  {
   "cell_type": "code",
   "execution_count": null,
   "id": "abc1eab9",
   "metadata": {},
   "outputs": [],
   "source": [
    "with open(\"robust_scaling.pkl\",\"wb\") as f:\n",
    "    pickle.dump(rs_model,f)"
   ]
  },
  {
   "cell_type": "code",
   "execution_count": null,
   "id": "bcd41a30",
   "metadata": {},
   "outputs": [],
   "source": [
    "ts = df.sample().drop(\"Close\",axis=1)\n",
    "ts"
   ]
  },
  {
   "cell_type": "code",
   "execution_count": null,
   "id": "50d24cd7",
   "metadata": {},
   "outputs": [],
   "source": [
    "df.iloc[8143][\"Close\"]"
   ]
  },
  {
   "cell_type": "code",
   "execution_count": null,
   "id": "e0ffd34f",
   "metadata": {},
   "outputs": [],
   "source": [
    "test_sample = rs_model.transform(ts.to_numpy())\n",
    "test_sample"
   ]
  },
  {
   "cell_type": "markdown",
   "id": "1989e67d",
   "metadata": {},
   "source": [
    "# Taking Input and predicting Close Price"
   ]
  },
  {
   "cell_type": "code",
   "execution_count": null,
   "id": "ecf95d6e",
   "metadata": {},
   "outputs": [],
   "source": [
    "x_test.columns"
   ]
  },
  {
   "cell_type": "code",
   "execution_count": null,
   "id": "a91322d2",
   "metadata": {},
   "outputs": [],
   "source": [
    "def get_predicted_value(name,dt,high_value,low_value,open_value,volume,marketcap):\n",
    "    dt = datetime.datetime.strptime(dt,\"%Y-%m-%d\").date()\n",
    "    dt_year = int(dt.year)\n",
    "    dt_month = int(dt.month)\n",
    "    dt_day = int(dt.day)\n",
    "    if name == \"BT\":\n",
    "        name = 0\n",
    "    elif name == \"CD\":\n",
    "        name = 1\n",
    "    elif name == \"DG\":\n",
    "        name = 2\n",
    "    elif name == \"ET\":\n",
    "        name = 3\n",
    "    else :\n",
    "        pass\n",
    "    test_array = np.array([name,high_value,low_value,open_value,volume,marketcap,dt_year,dt_month,dt_day])\n",
    "    scaled_test_array = rs_model.transform([test_array])\n",
    "    close_value = lr_model.predict(scaled_test_array)\n",
    "    return f\"Predicted closing price for given cyptocurrency for given date is :\",close_value[0]"
   ]
  },
  {
   "cell_type": "markdown",
   "id": "3f3ff4aa",
   "metadata": {},
   "source": [
    "# Prediction of Cryptocurrency price"
   ]
  },
  {
   "cell_type": "code",
   "execution_count": null,
   "id": "2a4653a1",
   "metadata": {},
   "outputs": [],
   "source": [
    "name = input(\"Give input as 'BT'-Bitcoin,'CD'-cardano,'DG'-dogecoin,'ET-Ethreum' : \")\n",
    "dt = input(\"Input date in format YYYY-MM-DD : \")\n",
    "high_value = input(\"Give highest value for given day : \")\n",
    "low_value = input(\"Give lowest value for given day : \")\n",
    "open_value = input(\"Give open value for given day : \")\n",
    "volume = input(\"Give volume shared for given day : \")\n",
    "marketcap = input(\"Give market capital for given coin : \")\n",
    "op = get_predicted_value(name,dt,high_value,low_value,open_value,volume,marketcap)\n",
    "print(op)"
   ]
  },
  {
   "cell_type": "code",
   "execution_count": null,
   "id": "3699efa3",
   "metadata": {},
   "outputs": [],
   "source": []
  }
 ],
 "metadata": {
  "kernelspec": {
   "display_name": "Python 3 (ipykernel)",
   "language": "python",
   "name": "python3"
  },
  "language_info": {
   "codemirror_mode": {
    "name": "ipython",
    "version": 3
   },
   "file_extension": ".py",
   "mimetype": "text/x-python",
   "name": "python",
   "nbconvert_exporter": "python",
   "pygments_lexer": "ipython3",
   "version": "3.10.9"
  }
 },
 "nbformat": 4,
 "nbformat_minor": 5
}
